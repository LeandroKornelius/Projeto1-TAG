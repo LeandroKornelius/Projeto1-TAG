{
 "cells": [
  {
   "cell_type": "markdown",
   "source": [
    "# Projeto 1 da Disciplina de Teoria e Aplicação de Grafos\n",
    "\n",
    "## Autor: Leandro Beloti Kornelius - 211020900\n",
    "\n",
    "A Teoria dos Grafos é uma das bases mais importantes da Ciência da Computação tendo inúmeras aplicações em problemas de otimização, análise de redes, redes sociais, redes de transporte e muito mais. Com foi visto na disciplina, um grafo é composto por vértices (ou nós) e arestas (ou ligações), representando, respectivamente, os elementos e as conexões entre eles.\n",
    "\n",
    "No contexto das redes sociais, os grafos permitem compreender e quantificar o comportamento dos usuários e suas conexões, possibilitando a análise de influência, centralidade, comunidades e padrões de interação. Através de métricas como grau, centralidade de intermediação, centralidade de proximidade e densidade da rede, é possível identificar usuários mais influentes, grupos coesos e a estrutura geral da rede.\n",
    "\n",
    "Assim, no contexto do projeto, oferece uma ferramenta analítica que pode auxiliar na tomada de decisões, detecção de padrões e compreensão do impacto das interações entre os indivíduos da rede.\n",
    "\n",
    "Dessa forma, este projeto visa analisar estruturas de redes sociais, utilizando métricas de grafos. Sendo possível avaliar as influências dos usuários da rede social e potenciais de usuários. Para a implementação deste projeto foi usado este jupyter notebook, o qual foi dividido em cinco sessões principais:\n",
    "\n",
    "1. Coleta de Dados\n",
    "2. Contrução do Grafo\n",
    "3. Extração das Métricas Relevantes do Grafo\n",
    "4. Visualização das Medidas Extraídas de Forma Explícita\n",
    "5. Elaboração de um Relatório de Análise do Grafo\n",
    "\n",
    "## 1. Coleta de Dados:\n",
    "\n",
    "Para realizar o projeto, fomos instruídos a usar o dataset presente na url <https://snap.stanford.edu/data/egonets-Facebook.html>. Os dados deste site foram coletados de um formulário através de um aplicativo do facebook. O dataset foi anonimizado substituindo os ids dos usuários do facebook para um novo valor para cada usuário. Foram também anonimizadas algumas informações como afiliações políticas. Portanto, podemos ver se dois indivíduos tem a mesma orientação política, mas não conseguimos determinar qual ela é.\n",
    "\n",
    "No arquivo facebook_combined.txt presente no diretório Data > facebook_combined.txt > facebook_combined.txt há os 4039 usuários representados como nós do grafo os quais estão conectados por arestas não direcionadas. Ou seja, se em uma linha deste arquivo tiver que 1 está conectado a 2 isso significa que 2 também está conectado a 1.\n",
    "\n",
    "Nossa missão é elaborar uma função que seleciona 2000 nós aleatoriamente e todas suas respectivas arestas.\n",
    "\n",
    "Com isso, devemos preservar todas as arestas entre os nós selecionados. Ou seja, iremos extrair um subgrafo induzido com 2000 vértices do nosso grafo inicial.\n",
    "\n",
    "Nesse sentido, vamos iniciar com uma função auxiliar que lê o arquivo e retorna um dicionário em que a chave é o identificador numérico de um vértice e o valor correspondentes são todos vértices os quais a chave tem uma aresta que os conecta com direcionamento."
   ],
   "metadata": {
    "collapsed": false
   }
  },
  {
   "cell_type": "code",
   "execution_count": 80,
   "outputs": [],
   "source": [
    "def load_graph_data(file_path: str):\n",
    "    graph_data = {}\n",
    "    with open(file_path) as f:\n",
    "        for line in f:\n",
    "            origen_v_id, destine_v_id = map(int, line.split())\n",
    "            if origen_v_id in graph_data:\n",
    "                graph_data[int(origen_v_id)].append(int(destine_v_id))\n",
    "            else:\n",
    "                graph_data[int(origen_v_id)] = [int(destine_v_id)]\n",
    "            if destine_v_id in graph_data:\n",
    "                graph_data[int(destine_v_id)].append(int(origen_v_id))\n",
    "            else:\n",
    "                graph_data[int(destine_v_id)] = [int(origen_v_id)]\n",
    "    return graph_data"
   ],
   "metadata": {
    "collapsed": false,
    "ExecuteTime": {
     "end_time": "2025-10-19T22:28:55.328585400Z",
     "start_time": "2025-10-19T22:28:55.317560500Z"
    }
   }
  },
  {
   "cell_type": "markdown",
   "source": [
    "Essa função recebe o caminho do arquivo que terá os dados acerca das arestas do Grafo. Para cada linha no arquivo, é verificado se o vértice de origem está no dicionário. Caso esteja, é necessário acrescentar o vértice de destino às adjacências do vértice de origem. Caso contrário, tivemos a primeira ocorrência do vértice de origem e criamos uma lista com o primeiro vértice adjacente.\n",
    "\n",
    "Diante disso, agora precisamos selecionar o subgrafo induzido em que selecionaremos 2000 vértices aleatoriamente deste Grafo. Para isso, usaremos a biblioteca numpy em que vamos gerar um array de 1D contendo 2000 ids entre 0 e 4038.\n",
    "\n",
    "Com este objetivo em mente a seguinte função auxiliar foi elaborada:"
   ],
   "metadata": {
    "collapsed": false
   }
  },
  {
   "cell_type": "code",
   "execution_count": 81,
   "outputs": [],
   "source": [
    "import numpy as np\n",
    "\n",
    "def generate_2000_random_vs(total_nodes=4039, seed=42):\n",
    "    rng = np.random.default_rng(seed)\n",
    "    return rng.choice(total_nodes, size=2000, replace=False)"
   ],
   "metadata": {
    "collapsed": false,
    "ExecuteTime": {
     "end_time": "2025-10-19T22:28:55.329596600Z",
     "start_time": "2025-10-19T22:28:55.320404800Z"
    }
   }
  },
  {
   "cell_type": "markdown",
   "source": [
    "Para obtenção do subgrafo induzido com os 2000 vértices randomicamente selecionados, nós devemos tratar os dados do Grafo original. Assim, devemos:\n",
    "* Remover ids e vértices adjacentes não selecionados do dicionário\n",
    "* Remover vértices adjacentes removidos dos vértices que foram selecionados randômicamente\n",
    "\n",
    "Contudo, caso já exista o subgrafo induzido gerado, não é necessário gerar um novo, podendo apenas usar o existente.\n",
    "\n",
    "Sob essa ótica, a função abaixo faz esta implementação com a chamadas das funções para conclusão da primeira etapa. Foram inseridos prints para visualização dos resultados, mas foram comentados para não poluir a saída:"
   ],
   "metadata": {
    "collapsed": false
   }
  },
  {
   "cell_type": "code",
   "execution_count": 82,
   "outputs": [
    {
     "name": "stdout",
     "output_type": "stream",
     "text": [
      "Total gerados: 2000\n",
      "Únicos: 2000\n",
      "⚠️ Arquivo com subgrafo induzido já existe. Nenhuma ação foi realizada.\n"
     ]
    }
   ],
   "source": [
    "from pathlib import Path\n",
    "\n",
    "sub_graph_file_path = Path(\"subgraph.txt\")\n",
    "\n",
    "def generate_sub_graph(graph_data, random_vs):\n",
    "    if not sub_graph_file_path.exists():\n",
    "        random_vs = set(random_vs)\n",
    "\n",
    "        # Creates subgraph\n",
    "        sub_graph = {\n",
    "            v: [x for x in adj if x in random_vs]\n",
    "            for v, adj in graph_data.items() if v in random_vs\n",
    "        }\n",
    "\n",
    "        # Saves subgraph\n",
    "        with open(sub_graph_file_path, \"x\") as f:\n",
    "            for v_id, adjs in sub_graph.items():\n",
    "                for adjacent in adjs:\n",
    "                    f.write(f\"{v_id} {adjacent}\\n\")\n",
    "\n",
    "        print(\"✅ Subgrafo induzido gerado e salvo em 'subgraph.txt'.\")\n",
    "    else:\n",
    "        print(\"⚠️ Arquivo com subgrafo induzido já existe. Nenhuma ação foi realizada.\")\n",
    "\n",
    "# Testing the functions implemented:\n",
    "graph_full_data = load_graph_data(\"./Data/facebook_combined.txt/facebook_combined.txt\")\n",
    "# print(f\"Full graph data dictionary: {graph_full_data}\")\n",
    "random_2000_vs = generate_2000_random_vs()\n",
    "print(\"Total gerados:\", len(random_2000_vs))\n",
    "print(\"Únicos:\", len(set(random_2000_vs)))\n",
    "# print(f\"Random vs selected: {random_2000_vs}\")\n",
    "generate_sub_graph(graph_full_data, random_2000_vs)"
   ],
   "metadata": {
    "collapsed": false,
    "ExecuteTime": {
     "end_time": "2025-10-19T22:28:55.409721100Z",
     "start_time": "2025-10-19T22:28:55.329596600Z"
    }
   }
  },
  {
   "cell_type": "markdown",
   "source": [
    "## 2. Construção do Grafo\n",
    "\n",
    "Para construção da rede foi instruído o uso do pacote NetworkX o qual a documentação pode ser consultada ao lado <https://networkx.org/documentation/stable/install.html>.\n",
    "\n",
    "Esta biblioteca permite que nós, a partir de um arquivo, façamos a construção de um grafo, garanta sua conectividade, faça limpezas de arestas, consulte métricas e muito mais.\n",
    "\n",
    "Assim, a função abaixo constrói o grafo a partir dos 2000 vértices aleatórios gerados na \"Etapa 1\". Para os vértices isolados, sem arestas incidentes, é feito uma adição explicita destes nós."
   ],
   "metadata": {
    "collapsed": false
   }
  },
  {
   "cell_type": "code",
   "execution_count": 83,
   "outputs": [
    {
     "name": "stdout",
     "output_type": "stream",
     "text": [
      "🪩 Grafo carregado com 2000 nós e 20971 arestas.\n",
      "🔹 Nós com grau maior do que 0: 1938\n",
      "🔹 Nós isolados (sem arestas): 62\n"
     ]
    }
   ],
   "source": [
    "import networkx as nx\n",
    "\n",
    "def build_graph(file_path, nodes):\n",
    "    G = nx.read_edgelist(file_path, nodetype=int, create_using=nx.Graph())\n",
    "    # Adds isolated nodes explicitely\n",
    "    G.add_nodes_from(nodes)\n",
    "    print(f\"🪩 Grafo carregado com {G.number_of_nodes()} nós e {G.number_of_edges()} arestas.\")\n",
    "    print(f\"🔹 Nós com grau maior do que 0: {len([n for n, d in G.degree() if d != 0])}\")\n",
    "    print(f\"🔹 Nós isolados (sem arestas): {len([n for n, d in G.degree() if d == 0])}\")\n",
    "    return G\n",
    "\n",
    "# Defining the graph from the random 2000 sample\n",
    "G = build_graph(\"subgraph.txt\", random_2000_vs)"
   ],
   "metadata": {
    "collapsed": false,
    "ExecuteTime": {
     "end_time": "2025-10-19T22:28:55.490241400Z",
     "start_time": "2025-10-19T22:28:55.411743100Z"
    }
   }
  },
  {
   "cell_type": "markdown",
   "source": [],
   "metadata": {
    "collapsed": false
   }
  }
 ],
 "metadata": {
  "kernelspec": {
   "display_name": "Python 3",
   "language": "python",
   "name": "python3"
  },
  "language_info": {
   "codemirror_mode": {
    "name": "ipython",
    "version": 2
   },
   "file_extension": ".py",
   "mimetype": "text/x-python",
   "name": "python",
   "nbconvert_exporter": "python",
   "pygments_lexer": "ipython2",
   "version": "2.7.6"
  }
 },
 "nbformat": 4,
 "nbformat_minor": 0
}
